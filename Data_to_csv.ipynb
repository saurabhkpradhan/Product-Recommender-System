{
 "cells": [
  {
   "cell_type": "markdown",
   "metadata": {},
   "source": [
    "# Data preprocessing"
   ]
  },
  {
   "cell_type": "markdown",
   "metadata": {},
   "source": [
    "### READ DATA FROM .JSON.GZ FILE"
   ]
  },
  {
   "cell_type": "code",
   "execution_count": 1,
   "metadata": {},
   "outputs": [],
   "source": [
    "import json\n",
    "import gzip\n",
    "import pandas as pd\n",
    "\n",
    "def parse(path):\n",
    "    g = gzip.open(path, 'rb')\n",
    "    for l in g:\n",
    "        yield json.loads(l)\n",
    "\n",
    "def getDF(path):\n",
    "    i = 0\n",
    "    df = {}\n",
    "    for d in parse(path):\n",
    "        df[i] = d\n",
    "        i += 1\n",
    "    return pd.DataFrame.from_dict(df, orient='index')\n",
    "\n",
    "df = getDF('reviews_Office_Products.json.gz')"
   ]
  },
  {
   "cell_type": "code",
   "execution_count": 2,
   "metadata": {},
   "outputs": [
    {
     "data": {
      "text/html": [
       "<div>\n",
       "<style scoped>\n",
       "    .dataframe tbody tr th:only-of-type {\n",
       "        vertical-align: middle;\n",
       "    }\n",
       "\n",
       "    .dataframe tbody tr th {\n",
       "        vertical-align: top;\n",
       "    }\n",
       "\n",
       "    .dataframe thead th {\n",
       "        text-align: right;\n",
       "    }\n",
       "</style>\n",
       "<table border=\"1\" class=\"dataframe\">\n",
       "  <thead>\n",
       "    <tr style=\"text-align: right;\">\n",
       "      <th></th>\n",
       "      <th>reviewerID</th>\n",
       "      <th>asin</th>\n",
       "      <th>reviewerName</th>\n",
       "      <th>helpful</th>\n",
       "      <th>reviewText</th>\n",
       "      <th>overall</th>\n",
       "      <th>summary</th>\n",
       "      <th>unixReviewTime</th>\n",
       "      <th>reviewTime</th>\n",
       "    </tr>\n",
       "  </thead>\n",
       "  <tbody>\n",
       "    <tr>\n",
       "      <th>0</th>\n",
       "      <td>A32T2H8150OJLU</td>\n",
       "      <td>B00000JBLH</td>\n",
       "      <td>ARH</td>\n",
       "      <td>[3, 4]</td>\n",
       "      <td>I bought my first HP12C in about 1984 or so, a...</td>\n",
       "      <td>5.0</td>\n",
       "      <td>A solid performer, and long time friend</td>\n",
       "      <td>1094169600</td>\n",
       "      <td>09 3, 2004</td>\n",
       "    </tr>\n",
       "    <tr>\n",
       "      <th>1</th>\n",
       "      <td>A3MAFS04ZABRGO</td>\n",
       "      <td>B00000JBLH</td>\n",
       "      <td>Let it Be \"Alan\"</td>\n",
       "      <td>[7, 9]</td>\n",
       "      <td>WHY THIS BELATED REVIEW? I feel very obliged t...</td>\n",
       "      <td>5.0</td>\n",
       "      <td>Price of GOLD is up, so don't bury the golden ...</td>\n",
       "      <td>1197676800</td>\n",
       "      <td>12 15, 2007</td>\n",
       "    </tr>\n",
       "    <tr>\n",
       "      <th>2</th>\n",
       "      <td>A1F1A0QQP2XVH5</td>\n",
       "      <td>B00000JBLH</td>\n",
       "      <td>Mark B</td>\n",
       "      <td>[3, 3]</td>\n",
       "      <td>I have an HP 48GX that has been kicking for mo...</td>\n",
       "      <td>2.0</td>\n",
       "      <td>Good functionality, but not durable like old HPs</td>\n",
       "      <td>1293840000</td>\n",
       "      <td>01 1, 2011</td>\n",
       "    </tr>\n",
       "    <tr>\n",
       "      <th>3</th>\n",
       "      <td>A49R5DBXXQDE5</td>\n",
       "      <td>B00000JBLH</td>\n",
       "      <td>R. D Johnson</td>\n",
       "      <td>[7, 8]</td>\n",
       "      <td>I've started doing more finance stuff recently...</td>\n",
       "      <td>5.0</td>\n",
       "      <td>One of the last of an almost extinct species</td>\n",
       "      <td>1145404800</td>\n",
       "      <td>04 19, 2006</td>\n",
       "    </tr>\n",
       "    <tr>\n",
       "      <th>4</th>\n",
       "      <td>A2XRMQA6PJ5ZJ8</td>\n",
       "      <td>B00000JBLH</td>\n",
       "      <td>Roger J. Buffington</td>\n",
       "      <td>[0, 0]</td>\n",
       "      <td>For simple calculations and discounted cash fl...</td>\n",
       "      <td>5.0</td>\n",
       "      <td>Still the best</td>\n",
       "      <td>1375574400</td>\n",
       "      <td>08 4, 2013</td>\n",
       "    </tr>\n",
       "    <tr>\n",
       "      <th>...</th>\n",
       "      <td>...</td>\n",
       "      <td>...</td>\n",
       "      <td>...</td>\n",
       "      <td>...</td>\n",
       "      <td>...</td>\n",
       "      <td>...</td>\n",
       "      <td>...</td>\n",
       "      <td>...</td>\n",
       "      <td>...</td>\n",
       "    </tr>\n",
       "    <tr>\n",
       "      <th>53253</th>\n",
       "      <td>A1ODOGXEYECQQ8</td>\n",
       "      <td>B00KYA0RC2</td>\n",
       "      <td>Nuknuk</td>\n",
       "      <td>[0, 0]</td>\n",
       "      <td>What I like about this scale is you can power ...</td>\n",
       "      <td>4.0</td>\n",
       "      <td>Portable and very easy to use</td>\n",
       "      <td>1405555200</td>\n",
       "      <td>07 17, 2014</td>\n",
       "    </tr>\n",
       "    <tr>\n",
       "      <th>53254</th>\n",
       "      <td>A2XX2A4OJCDNLZ</td>\n",
       "      <td>B00KYA0RC2</td>\n",
       "      <td>RatherLiveInKeyWest</td>\n",
       "      <td>[2, 2]</td>\n",
       "      <td>This Accuteck ShipPro digital scale works very...</td>\n",
       "      <td>5.0</td>\n",
       "      <td>Accuteck ShipPro Digital Postal Scale - Stand-...</td>\n",
       "      <td>1405296000</td>\n",
       "      <td>07 14, 2014</td>\n",
       "    </tr>\n",
       "    <tr>\n",
       "      <th>53255</th>\n",
       "      <td>A3LGT6UZL99IW1</td>\n",
       "      <td>B00KYA0RC2</td>\n",
       "      <td>Richard C. Drew \"Anaal Nathra/Uthe vas Bethod...</td>\n",
       "      <td>[1, 1]</td>\n",
       "      <td>I ship a lot of stuff.  I sell small parts, ma...</td>\n",
       "      <td>5.0</td>\n",
       "      <td>Extremely accurate, foolproof postal/shipping ...</td>\n",
       "      <td>1405468800</td>\n",
       "      <td>07 16, 2014</td>\n",
       "    </tr>\n",
       "    <tr>\n",
       "      <th>53256</th>\n",
       "      <td>A1XJOSJN6FHFO0</td>\n",
       "      <td>B00KYA0RC2</td>\n",
       "      <td>Shirley Priscilla  Johnson \"Author/Reviewer -...</td>\n",
       "      <td>[0, 0]</td>\n",
       "      <td>This is a great little scale to have. It can w...</td>\n",
       "      <td>5.0</td>\n",
       "      <td>Fast, Easy and Accurate</td>\n",
       "      <td>1405814400</td>\n",
       "      <td>07 20, 2014</td>\n",
       "    </tr>\n",
       "    <tr>\n",
       "      <th>53257</th>\n",
       "      <td>AAEVGE52KL0DJ</td>\n",
       "      <td>B00KYA0RC2</td>\n",
       "      <td>Tim</td>\n",
       "      <td>[3, 4]</td>\n",
       "      <td>When asked to review this scale, I almost decl...</td>\n",
       "      <td>4.0</td>\n",
       "      <td>Great Value on a Good Postal Scale</td>\n",
       "      <td>1404604800</td>\n",
       "      <td>07 6, 2014</td>\n",
       "    </tr>\n",
       "  </tbody>\n",
       "</table>\n",
       "<p>53258 rows × 9 columns</p>\n",
       "</div>"
      ],
      "text/plain": [
       "           reviewerID        asin  \\\n",
       "0      A32T2H8150OJLU  B00000JBLH   \n",
       "1      A3MAFS04ZABRGO  B00000JBLH   \n",
       "2      A1F1A0QQP2XVH5  B00000JBLH   \n",
       "3       A49R5DBXXQDE5  B00000JBLH   \n",
       "4      A2XRMQA6PJ5ZJ8  B00000JBLH   \n",
       "...               ...         ...   \n",
       "53253  A1ODOGXEYECQQ8  B00KYA0RC2   \n",
       "53254  A2XX2A4OJCDNLZ  B00KYA0RC2   \n",
       "53255  A3LGT6UZL99IW1  B00KYA0RC2   \n",
       "53256  A1XJOSJN6FHFO0  B00KYA0RC2   \n",
       "53257   AAEVGE52KL0DJ  B00KYA0RC2   \n",
       "\n",
       "                                           reviewerName helpful  \\\n",
       "0                                                   ARH  [3, 4]   \n",
       "1                                      Let it Be \"Alan\"  [7, 9]   \n",
       "2                                                Mark B  [3, 3]   \n",
       "3                                          R. D Johnson  [7, 8]   \n",
       "4                                   Roger J. Buffington  [0, 0]   \n",
       "...                                                 ...     ...   \n",
       "53253                                            Nuknuk  [0, 0]   \n",
       "53254                               RatherLiveInKeyWest  [2, 2]   \n",
       "53255  Richard C. Drew \"Anaal Nathra/Uthe vas Bethod...  [1, 1]   \n",
       "53256  Shirley Priscilla  Johnson \"Author/Reviewer -...  [0, 0]   \n",
       "53257                                               Tim  [3, 4]   \n",
       "\n",
       "                                              reviewText  overall  \\\n",
       "0      I bought my first HP12C in about 1984 or so, a...      5.0   \n",
       "1      WHY THIS BELATED REVIEW? I feel very obliged t...      5.0   \n",
       "2      I have an HP 48GX that has been kicking for mo...      2.0   \n",
       "3      I've started doing more finance stuff recently...      5.0   \n",
       "4      For simple calculations and discounted cash fl...      5.0   \n",
       "...                                                  ...      ...   \n",
       "53253  What I like about this scale is you can power ...      4.0   \n",
       "53254  This Accuteck ShipPro digital scale works very...      5.0   \n",
       "53255  I ship a lot of stuff.  I sell small parts, ma...      5.0   \n",
       "53256  This is a great little scale to have. It can w...      5.0   \n",
       "53257  When asked to review this scale, I almost decl...      4.0   \n",
       "\n",
       "                                                 summary  unixReviewTime  \\\n",
       "0                A solid performer, and long time friend      1094169600   \n",
       "1      Price of GOLD is up, so don't bury the golden ...      1197676800   \n",
       "2       Good functionality, but not durable like old HPs      1293840000   \n",
       "3           One of the last of an almost extinct species      1145404800   \n",
       "4                                         Still the best      1375574400   \n",
       "...                                                  ...             ...   \n",
       "53253                      Portable and very easy to use      1405555200   \n",
       "53254  Accuteck ShipPro Digital Postal Scale - Stand-...      1405296000   \n",
       "53255  Extremely accurate, foolproof postal/shipping ...      1405468800   \n",
       "53256                            Fast, Easy and Accurate      1405814400   \n",
       "53257                 Great Value on a Good Postal Scale      1404604800   \n",
       "\n",
       "        reviewTime  \n",
       "0       09 3, 2004  \n",
       "1      12 15, 2007  \n",
       "2       01 1, 2011  \n",
       "3      04 19, 2006  \n",
       "4       08 4, 2013  \n",
       "...            ...  \n",
       "53253  07 17, 2014  \n",
       "53254  07 14, 2014  \n",
       "53255  07 16, 2014  \n",
       "53256  07 20, 2014  \n",
       "53257   07 6, 2014  \n",
       "\n",
       "[53258 rows x 9 columns]"
      ]
     },
     "execution_count": 2,
     "metadata": {},
     "output_type": "execute_result"
    }
   ],
   "source": [
    "df"
   ]
  },
  {
   "cell_type": "markdown",
   "metadata": {},
   "source": [
    "#### Splitting helpful column to numerics (cannot work with list data format )"
   ]
  },
  {
   "cell_type": "code",
   "execution_count": 3,
   "metadata": {},
   "outputs": [
    {
     "data": {
      "text/html": [
       "<div>\n",
       "<style scoped>\n",
       "    .dataframe tbody tr th:only-of-type {\n",
       "        vertical-align: middle;\n",
       "    }\n",
       "\n",
       "    .dataframe tbody tr th {\n",
       "        vertical-align: top;\n",
       "    }\n",
       "\n",
       "    .dataframe thead th {\n",
       "        text-align: right;\n",
       "    }\n",
       "</style>\n",
       "<table border=\"1\" class=\"dataframe\">\n",
       "  <thead>\n",
       "    <tr style=\"text-align: right;\">\n",
       "      <th></th>\n",
       "      <th>helpful</th>\n",
       "      <th>asin</th>\n",
       "    </tr>\n",
       "  </thead>\n",
       "  <tbody>\n",
       "    <tr>\n",
       "      <th>0</th>\n",
       "      <td>[3, 4]</td>\n",
       "      <td>B00000JBLH</td>\n",
       "    </tr>\n",
       "    <tr>\n",
       "      <th>1</th>\n",
       "      <td>[7, 9]</td>\n",
       "      <td>B00000JBLH</td>\n",
       "    </tr>\n",
       "    <tr>\n",
       "      <th>2</th>\n",
       "      <td>[3, 3]</td>\n",
       "      <td>B00000JBLH</td>\n",
       "    </tr>\n",
       "    <tr>\n",
       "      <th>3</th>\n",
       "      <td>[7, 8]</td>\n",
       "      <td>B00000JBLH</td>\n",
       "    </tr>\n",
       "    <tr>\n",
       "      <th>4</th>\n",
       "      <td>[0, 0]</td>\n",
       "      <td>B00000JBLH</td>\n",
       "    </tr>\n",
       "    <tr>\n",
       "      <th>...</th>\n",
       "      <td>...</td>\n",
       "      <td>...</td>\n",
       "    </tr>\n",
       "    <tr>\n",
       "      <th>53253</th>\n",
       "      <td>[0, 0]</td>\n",
       "      <td>B00KYA0RC2</td>\n",
       "    </tr>\n",
       "    <tr>\n",
       "      <th>53254</th>\n",
       "      <td>[2, 2]</td>\n",
       "      <td>B00KYA0RC2</td>\n",
       "    </tr>\n",
       "    <tr>\n",
       "      <th>53255</th>\n",
       "      <td>[1, 1]</td>\n",
       "      <td>B00KYA0RC2</td>\n",
       "    </tr>\n",
       "    <tr>\n",
       "      <th>53256</th>\n",
       "      <td>[0, 0]</td>\n",
       "      <td>B00KYA0RC2</td>\n",
       "    </tr>\n",
       "    <tr>\n",
       "      <th>53257</th>\n",
       "      <td>[3, 4]</td>\n",
       "      <td>B00KYA0RC2</td>\n",
       "    </tr>\n",
       "  </tbody>\n",
       "</table>\n",
       "<p>53258 rows × 2 columns</p>\n",
       "</div>"
      ],
      "text/plain": [
       "      helpful        asin\n",
       "0      [3, 4]  B00000JBLH\n",
       "1      [7, 9]  B00000JBLH\n",
       "2      [3, 3]  B00000JBLH\n",
       "3      [7, 8]  B00000JBLH\n",
       "4      [0, 0]  B00000JBLH\n",
       "...       ...         ...\n",
       "53253  [0, 0]  B00KYA0RC2\n",
       "53254  [2, 2]  B00KYA0RC2\n",
       "53255  [1, 1]  B00KYA0RC2\n",
       "53256  [0, 0]  B00KYA0RC2\n",
       "53257  [3, 4]  B00KYA0RC2\n",
       "\n",
       "[53258 rows x 2 columns]"
      ]
     },
     "execution_count": 3,
     "metadata": {},
     "output_type": "execute_result"
    }
   ],
   "source": [
    "helpfulness = df[['helpful','asin']]\n",
    "helpfulness"
   ]
  },
  {
   "cell_type": "code",
   "execution_count": 4,
   "metadata": {},
   "outputs": [
    {
     "name": "stdout",
     "output_type": "stream",
     "text": [
      "<class 'pandas.core.frame.DataFrame'>\n",
      "Int64Index: 53258 entries, 0 to 53257\n",
      "Data columns (total 3 columns):\n",
      " #   Column   Non-Null Count  Dtype \n",
      "---  ------   --------------  ----- \n",
      " 0   asin     53258 non-null  object\n",
      " 1   helpful  53258 non-null  int64 \n",
      " 2   total    53258 non-null  int64 \n",
      "dtypes: int64(2), object(1)\n",
      "memory usage: 1.6+ MB\n"
     ]
    },
    {
     "data": {
      "text/html": [
       "<div>\n",
       "<style scoped>\n",
       "    .dataframe tbody tr th:only-of-type {\n",
       "        vertical-align: middle;\n",
       "    }\n",
       "\n",
       "    .dataframe tbody tr th {\n",
       "        vertical-align: top;\n",
       "    }\n",
       "\n",
       "    .dataframe thead th {\n",
       "        text-align: right;\n",
       "    }\n",
       "</style>\n",
       "<table border=\"1\" class=\"dataframe\">\n",
       "  <thead>\n",
       "    <tr style=\"text-align: right;\">\n",
       "      <th></th>\n",
       "      <th>asin</th>\n",
       "      <th>helpful</th>\n",
       "      <th>total</th>\n",
       "    </tr>\n",
       "  </thead>\n",
       "  <tbody>\n",
       "    <tr>\n",
       "      <th>0</th>\n",
       "      <td>B00000JBLH</td>\n",
       "      <td>3</td>\n",
       "      <td>4</td>\n",
       "    </tr>\n",
       "    <tr>\n",
       "      <th>1</th>\n",
       "      <td>B00000JBLH</td>\n",
       "      <td>7</td>\n",
       "      <td>9</td>\n",
       "    </tr>\n",
       "    <tr>\n",
       "      <th>2</th>\n",
       "      <td>B00000JBLH</td>\n",
       "      <td>3</td>\n",
       "      <td>3</td>\n",
       "    </tr>\n",
       "    <tr>\n",
       "      <th>3</th>\n",
       "      <td>B00000JBLH</td>\n",
       "      <td>7</td>\n",
       "      <td>8</td>\n",
       "    </tr>\n",
       "    <tr>\n",
       "      <th>4</th>\n",
       "      <td>B00000JBLH</td>\n",
       "      <td>0</td>\n",
       "      <td>0</td>\n",
       "    </tr>\n",
       "    <tr>\n",
       "      <th>...</th>\n",
       "      <td>...</td>\n",
       "      <td>...</td>\n",
       "      <td>...</td>\n",
       "    </tr>\n",
       "    <tr>\n",
       "      <th>53253</th>\n",
       "      <td>B00KYA0RC2</td>\n",
       "      <td>0</td>\n",
       "      <td>0</td>\n",
       "    </tr>\n",
       "    <tr>\n",
       "      <th>53254</th>\n",
       "      <td>B00KYA0RC2</td>\n",
       "      <td>2</td>\n",
       "      <td>2</td>\n",
       "    </tr>\n",
       "    <tr>\n",
       "      <th>53255</th>\n",
       "      <td>B00KYA0RC2</td>\n",
       "      <td>1</td>\n",
       "      <td>1</td>\n",
       "    </tr>\n",
       "    <tr>\n",
       "      <th>53256</th>\n",
       "      <td>B00KYA0RC2</td>\n",
       "      <td>0</td>\n",
       "      <td>0</td>\n",
       "    </tr>\n",
       "    <tr>\n",
       "      <th>53257</th>\n",
       "      <td>B00KYA0RC2</td>\n",
       "      <td>3</td>\n",
       "      <td>4</td>\n",
       "    </tr>\n",
       "  </tbody>\n",
       "</table>\n",
       "<p>53258 rows × 3 columns</p>\n",
       "</div>"
      ],
      "text/plain": [
       "             asin  helpful  total\n",
       "0      B00000JBLH        3      4\n",
       "1      B00000JBLH        7      9\n",
       "2      B00000JBLH        3      3\n",
       "3      B00000JBLH        7      8\n",
       "4      B00000JBLH        0      0\n",
       "...           ...      ...    ...\n",
       "53253  B00KYA0RC2        0      0\n",
       "53254  B00KYA0RC2        2      2\n",
       "53255  B00KYA0RC2        1      1\n",
       "53256  B00KYA0RC2        0      0\n",
       "53257  B00KYA0RC2        3      4\n",
       "\n",
       "[53258 rows x 3 columns]"
      ]
     },
     "execution_count": 4,
     "metadata": {},
     "output_type": "execute_result"
    }
   ],
   "source": [
    "df2 = pd.DataFrame(helpfulness)\n",
    "df2[['helpful','total']] = pd.DataFrame(df2.helpful.values.tolist(), index=df2.index)\n",
    "dfhelpful = df2[['asin', 'helpful','total']]\n",
    "dfhelpful.info()\n",
    "dfhelpful"
   ]
  },
  {
   "cell_type": "code",
   "execution_count": 5,
   "metadata": {},
   "outputs": [
    {
     "name": "stdout",
     "output_type": "stream",
     "text": [
      "<class 'pandas.core.frame.DataFrame'>\n",
      "Int64Index: 53258 entries, 0 to 53257\n",
      "Data columns (total 8 columns):\n",
      " #   Column          Non-Null Count  Dtype  \n",
      "---  ------          --------------  -----  \n",
      " 0   reviewerID      53258 non-null  object \n",
      " 1   asin            53258 non-null  object \n",
      " 2   reviewerName    52799 non-null  object \n",
      " 3   reviewText      53258 non-null  object \n",
      " 4   overall         53258 non-null  float64\n",
      " 5   summary         53258 non-null  object \n",
      " 6   unixReviewTime  53258 non-null  int64  \n",
      " 7   reviewTime      53258 non-null  object \n",
      "dtypes: float64(1), int64(1), object(6)\n",
      "memory usage: 3.7+ MB\n"
     ]
    }
   ],
   "source": [
    "df=df.drop('helpful',1)\n",
    "df.info()"
   ]
  },
  {
   "cell_type": "code",
   "execution_count": 6,
   "metadata": {},
   "outputs": [
    {
     "name": "stdout",
     "output_type": "stream",
     "text": [
      "<class 'pandas.core.frame.DataFrame'>\n",
      "Int64Index: 53258 entries, 0 to 53257\n",
      "Data columns (total 10 columns):\n",
      " #   Column          Non-Null Count  Dtype  \n",
      "---  ------          --------------  -----  \n",
      " 0   reviewerID      53258 non-null  object \n",
      " 1   asin            53258 non-null  object \n",
      " 2   reviewerName    52799 non-null  object \n",
      " 3   reviewText      53258 non-null  object \n",
      " 4   overall         53258 non-null  float64\n",
      " 5   summary         53258 non-null  object \n",
      " 6   unixReviewTime  53258 non-null  int64  \n",
      " 7   reviewTime      53258 non-null  object \n",
      " 8   helpful         53258 non-null  int64  \n",
      " 9   total           53258 non-null  int64  \n",
      "dtypes: float64(1), int64(3), object(6)\n",
      "memory usage: 7.0+ MB\n"
     ]
    }
   ],
   "source": [
    "result = df.join(dfhelpful[['helpful','total']])\n",
    "result.info()"
   ]
  },
  {
   "cell_type": "markdown",
   "metadata": {},
   "source": [
    "## Missing data"
   ]
  },
  {
   "cell_type": "markdown",
   "metadata": {},
   "source": [
    "### check for missing data using heatmap"
   ]
  },
  {
   "cell_type": "code",
   "execution_count": 7,
   "metadata": {},
   "outputs": [
    {
     "data": {
      "text/plain": [
       "<AxesSubplot:>"
      ]
     },
     "execution_count": 7,
     "metadata": {},
     "output_type": "execute_result"
    },
    {
     "data": {
      "image/png": "[encoded data removed]",
      "text/plain": [
       "<Figure size 1440x720 with 1 Axes>"
      ]
     },
     "metadata": {},
     "output_type": "display_data"
    }
   ],
   "source": [
    "import seaborn as sns\n",
    "import numpy as np\n",
    "sns.set(rc={'figure.figsize':(20,10)})\n",
    "sns.heatmap(result.isnull(), cbar=False)"
   ]
  },
  {
   "cell_type": "code",
   "execution_count": 8,
   "metadata": {},
   "outputs": [
    {
     "data": {
      "text/plain": [
       "<AxesSubplot:>"
      ]
     },
     "execution_count": 8,
     "metadata": {},
     "output_type": "execute_result"
    },
    {
     "data": {
      "image/png": "[encoded data removed]",
      "text/plain": [
       "<Figure size 1440x720 with 1 Axes>"
      ]
     },
     "metadata": {},
     "output_type": "display_data"
    }
   ],
   "source": [
    "result[\"reviewerName\"].fillna(\"Anonymous\", inplace = True)  \n",
    "sns.heatmap(result.isnull(), cbar=False)"
   ]
  },
  {
   "cell_type": "code",
   "execution_count": 9,
   "metadata": {},
   "outputs": [],
   "source": [
    "i1 = result[(result['reviewText'] == \"\")].index\n",
    "i2 = result[(result['summary'] == \"\")].index\n",
    "for i in i1:\n",
    "    if i in i2:\n",
    "        result.drop(i, inplace = True)"
   ]
  },
  {
   "cell_type": "code",
   "execution_count": 10,
   "metadata": {},
   "outputs": [
    {
     "name": "stdout",
     "output_type": "stream",
     "text": [
      "<class 'pandas.core.frame.DataFrame'>\n",
      "Int64Index: 53258 entries, 0 to 53257\n",
      "Data columns (total 10 columns):\n",
      " #   Column          Non-Null Count  Dtype  \n",
      "---  ------          --------------  -----  \n",
      " 0   reviewerID      53258 non-null  object \n",
      " 1   asin            53258 non-null  object \n",
      " 2   reviewerName    53258 non-null  object \n",
      " 3   reviewText      53258 non-null  object \n",
      " 4   overall         53258 non-null  float64\n",
      " 5   summary         53258 non-null  object \n",
      " 6   unixReviewTime  53258 non-null  int64  \n",
      " 7   reviewTime      53258 non-null  object \n",
      " 8   helpful         53258 non-null  int64  \n",
      " 9   total           53258 non-null  int64  \n",
      "dtypes: float64(1), int64(3), object(6)\n",
      "memory usage: 7.0+ MB\n"
     ]
    }
   ],
   "source": [
    "result.info()"
   ]
  },
  {
   "cell_type": "markdown",
   "metadata": {},
   "source": [
    "### Duplicates remove"
   ]
  },
  {
   "cell_type": "code",
   "execution_count": 11,
   "metadata": {},
   "outputs": [
    {
     "name": "stdout",
     "output_type": "stream",
     "text": [
      "<class 'pandas.core.frame.DataFrame'>\n",
      "Int64Index: 53258 entries, 0 to 53257\n",
      "Data columns (total 10 columns):\n",
      " #   Column          Non-Null Count  Dtype  \n",
      "---  ------          --------------  -----  \n",
      " 0   reviewerID      53258 non-null  object \n",
      " 1   asin            53258 non-null  object \n",
      " 2   reviewerName    53258 non-null  object \n",
      " 3   reviewText      53258 non-null  object \n",
      " 4   overall         53258 non-null  float64\n",
      " 5   summary         53258 non-null  object \n",
      " 6   unixReviewTime  53258 non-null  int64  \n",
      " 7   reviewTime      53258 non-null  object \n",
      " 8   helpful         53258 non-null  int64  \n",
      " 9   total           53258 non-null  int64  \n",
      "dtypes: float64(1), int64(3), object(6)\n",
      "memory usage: 7.0+ MB\n"
     ]
    }
   ],
   "source": [
    "result.drop_duplicates()\n",
    "result.info()"
   ]
  },
  {
   "cell_type": "code",
   "execution_count": 12,
   "metadata": {},
   "outputs": [],
   "source": [
    "result.to_csv('reviews.csv',index=False)"
   ]
  },
  {
   "cell_type": "code",
   "execution_count": null,
   "metadata": {},
   "outputs": [],
   "source": []
  }
 ],
 "metadata": {
  "kernelspec": {
   "display_name": "Python 3",
   "language": "python",
   "name": "python3"
  },
  "language_info": {
   "codemirror_mode": {
    "name": "ipython",
    "version": 3
   },
   "file_extension": ".py",
   "mimetype": "text/x-python",
   "name": "python",
   "nbconvert_exporter": "python",
   "pygments_lexer": "ipython3",
   "version": "3.8.5"
  }
 },
 "nbformat": 4,
 "nbformat_minor": 4
}
